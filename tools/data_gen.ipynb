{
 "cells": [
  {
   "cell_type": "code",
   "execution_count": 1,
   "metadata": {},
   "outputs": [
    {
     "name": "stdout",
     "output_type": "stream",
     "text": [
      "9.2.0\n"
     ]
    }
   ],
   "source": [
    "from PIL import Image\n",
    "from pathlib import Path\n",
    "import numpy as np\n",
    "from tqdm.notebook import tqdm\n",
    "import PIL\n",
    "print(PIL.__version__)\n",
    "DATA_ROOT = Path(r'/root/autodl-tmp/vesuvius-challenge-ink-detection')\n",
    "train_folder = DATA_ROOT / 'train'\n",
    "test_folder = DATA_ROOT / 'test'"
   ]
  },
  {
   "cell_type": "code",
   "execution_count": 2,
   "metadata": {},
   "outputs": [
    {
     "data": {
      "application/vnd.jupyter.widget-view+json": {
       "model_id": "fc79932812e74f599cbd6953df8d2d44",
       "version_major": 2,
       "version_minor": 0
      },
      "text/plain": [
       "  0%|          | 0/65 [00:00<?, ?it/s]"
      ]
     },
     "metadata": {},
     "output_type": "display_data"
    },
    {
     "name": "stderr",
     "output_type": "stream",
     "text": [
      "/tmp/ipykernel_1679/1566010613.py:10: DeprecationWarning: An exception was ignored while fetching the attribute `__array_interface__` from an object of type 'TiffImageFile'.  With the exception of `AttributeError` NumPy will always raise this exception in the future.  Raise this deprecation warning to see the original exception. (Warning added NumPy 1.21)\n",
      "  if np.array(Image.open(j)).shape == img_shape:\n",
      "/root/miniconda3/lib/python3.8/site-packages/PIL/Image.py:3035: DecompressionBombWarning: Image size (140973980 pixels) exceeds limit of 89478485 pixels, could be decompression bomb DOS attack.\n",
      "  warnings.warn(\n"
     ]
    },
    {
     "name": "stdout",
     "output_type": "stream",
     "text": [
      "Differet\n"
     ]
    },
    {
     "data": {
      "application/vnd.jupyter.widget-view+json": {
       "model_id": "d3ef3b9fb82743b8bd8c5f707c21f7ee",
       "version_major": 2,
       "version_minor": 0
      },
      "text/plain": [
       "  0%|          | 0/65 [00:00<?, ?it/s]"
      ]
     },
     "metadata": {},
     "output_type": "display_data"
    },
    {
     "name": "stdout",
     "output_type": "stream",
     "text": [
      "Differet\n"
     ]
    },
    {
     "data": {
      "application/vnd.jupyter.widget-view+json": {
       "model_id": "ad0fde3fe6be4a60bb273346b571723a",
       "version_major": 2,
       "version_minor": 0
      },
      "text/plain": [
       "  0%|          | 0/65 [00:00<?, ?it/s]"
      ]
     },
     "metadata": {},
     "output_type": "display_data"
    },
    {
     "name": "stdout",
     "output_type": "stream",
     "text": [
      "Differet\n"
     ]
    }
   ],
   "source": [
    "count = 0\n",
    "for i in train_folder.iterdir():\n",
    "    imgs = [f for f in (i /  'surface_volume').iterdir()]\n",
    "    inklabels = i /  'inklabels.png'\n",
    "    inklabels_rle= i / 'inklabels_rle.csv'\n",
    "    ir= i / 'ir.png'\n",
    "    mask= i / 'mask.png'\n",
    "    img_shape = np.array(Image.open(imgs[0])).shape\n",
    "    for j in tqdm(imgs):\n",
    "        if np.array(Image.open(j)).shape == img_shape:\n",
    "            del j\n",
    "            continue\n",
    "        else:\n",
    "            print(\"Differet\")\n",
    "            break"
   ]
  }
 ],
 "metadata": {
  "kernelspec": {
   "display_name": "base",
   "language": "python",
   "name": "python3"
  },
  "language_info": {
   "codemirror_mode": {
    "name": "ipython",
    "version": 3
   },
   "file_extension": ".py",
   "mimetype": "text/x-python",
   "name": "python",
   "nbconvert_exporter": "python",
   "pygments_lexer": "ipython3",
   "version": "3.8.10"
  },
  "orig_nbformat": 4
 },
 "nbformat": 4,
 "nbformat_minor": 2
}
