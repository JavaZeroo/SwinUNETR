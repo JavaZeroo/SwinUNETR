{
 "cells": [
  {
   "cell_type": "code",
   "execution_count": 20,
   "metadata": {},
   "outputs": [
    {
     "name": "stdout",
     "output_type": "stream",
     "text": [
      "(1, 65, 211, 303)\n"
     ]
    },
    {
     "name": "stderr",
     "output_type": "stream",
     "text": [
      "<class 'monai.transforms.utility.array.AddChannel'>: Class `AddChannel` has been deprecated since version 0.8. please use MetaTensor data type and monai.transforms.EnsureChannelFirst instead.\n"
     ]
    }
   ],
   "source": [
    "from pathlib import Path\n",
    "from monai.transforms import *\n",
    "OUTPUT = Path(r'/root/autodl-tmp/MyData')\n",
    "img = [str(OUTPUT / \"train/1/imgs/37/37_1.npy\") for i in range(65)]\n",
    "imgs, _ = LoadImage(image_only = False)(img)\n",
    "imgs = AddChannel()(imgs)\n",
    "imgs = Spacing(pixdim=(1.0, 1.0, 1.0))(imgs)\n",
    "print(imgs.shape)"
   ]
  },
  {
   "cell_type": "code",
   "execution_count": 21,
   "metadata": {},
   "outputs": [
    {
     "name": "stdout",
     "output_type": "stream",
     "text": [
      "(1, 65, 211, 303)\n"
     ]
    }
   ],
   "source": [
    "import torch\n",
    "class Copy(Transform):\n",
    "    def __init__(self, num_channel):\n",
    "        self.num_channel = num_channel\n",
    "\n",
    "    def __call__(self, data):\n",
    "        assert isinstance(data, torch.Tensor)\n",
    "        data = data.repeat(1, self.num_channel, 1, 1)  # output = (batch_size=1, num_channel, H, W)\n",
    "        return data\n",
    "    \n",
    "ink = OUTPUT / \"train/1/ink_label/ink_label_39.npy\"\n",
    "inks, _ = LoadImage(image_only = False)(ink)\n",
    "inks = Copy(65)(inks)\n",
    "inks = Spacing(pixdim=(1.0, 1.0, 1.0))(inks)\n",
    "print(inks.shape)"
   ]
  }
 ],
 "metadata": {
  "kernelspec": {
   "display_name": "base",
   "language": "python",
   "name": "python3"
  },
  "language_info": {
   "codemirror_mode": {
    "name": "ipython",
    "version": 3
   },
   "file_extension": ".py",
   "mimetype": "text/x-python",
   "name": "python",
   "nbconvert_exporter": "python",
   "pygments_lexer": "ipython3",
   "version": "3.8.10"
  },
  "orig_nbformat": 4
 },
 "nbformat": 4,
 "nbformat_minor": 2
}
