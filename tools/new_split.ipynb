{
 "cells": [
  {
   "cell_type": "code",
   "execution_count": 2,
   "metadata": {},
   "outputs": [],
   "source": [
    "from pathlib import Path\n",
    "import numpy as np"
   ]
  },
  {
   "cell_type": "code",
   "execution_count": 3,
   "metadata": {},
   "outputs": [],
   "source": [
    "DATA_ROOT = Path(\"/root/autodl-fs/ink_data/\")\n",
    "OUTPUT = Path(\"/root/autodl-fs/data_split\")"
   ]
  },
  {
   "cell_type": "code",
   "execution_count": 4,
   "metadata": {},
   "outputs": [],
   "source": [
    "train_folder = DATA_ROOT / \"train\"\n",
    "test_folder = DATA_ROOT / \"test\"\n",
    "train_1 = train_folder / \"1\"\n",
    "train_2 = train_folder / \"2\"\n",
    "train_3 = train_folder / \"3\"\n"
   ]
  },
  {
   "cell_type": "code",
   "execution_count": 5,
   "metadata": {},
   "outputs": [
    {
     "name": "stderr",
     "output_type": "stream",
     "text": [
      "  0%|          | 0/3 [00:00<?, ?it/s]"
     ]
    },
    {
     "name": "stdout",
     "output_type": "stream",
     "text": [
      "8181 6330\n",
      "8181 6330\n",
      "8181 6330\n",
      "8181 6330\n"
     ]
    },
    {
     "name": "stderr",
     "output_type": "stream",
     "text": [
      " 33%|███▎      | 1/3 [28:11<56:22, 1691.42s/it]"
     ]
    },
    {
     "name": "stdout",
     "output_type": "stream",
     "text": [
      "14830 9506\n",
      "14830 9506\n",
      "14830 9506\n",
      "14830 9506\n"
     ]
    }
   ],
   "source": [
    "# train_1_img = train_1 / \"surface_volume.npy\"\n",
    "# train_1_inklabel = train_1 / \"inklabels.npy\"\n",
    "# train_1_ir = train_1 / \"ir.npy\"\n",
    "# train_1_mask = train_1 / \"mask.npy\"\n",
    "\n",
    "# train_2_img = train_2 / \"surface_volume.npy\"\n",
    "# train_2_inlabel = train_2 / \"inklabels.npy\"\n",
    "# train_2_ir = train_2 / \"ir.npy\"\n",
    "# train_2_mask = train_2 / \"mask.npy\"\n",
    "\n",
    "# train_3_img = train_3 / \"surface_volume.npy\"\n",
    "# train_3_inlabel = train_3 / \"inklabels.npy\"\n",
    "# train_3_ir = train_3 / \"ir.npy\"\n",
    "# train_3_mask = train_3 / \"mask.npy\"\n",
    "\n",
    "# test_1_img = test_folder / \"1\" / \"surface_volume.npy\"\n",
    "\n",
    "count = 0\n",
    "OUTPUT.mkdir(exist_ok=True)\n",
    "folders = list(train_folder.iterdir())\n",
    "from tqdm import tqdm\n",
    "for i in tqdm(folders):\n",
    "    # img, inklabel, ir, mask need to be split from (a, b) to (a/2, b)\n",
    "    for file in i.iterdir():\n",
    "        read_file = np.load(file)\n",
    "        if len(read_file.shape) == 2:\n",
    "            x, y = read_file.shape\n",
    "            print(x, y)\n",
    "            read_file_1 = read_file[:int(x/2), :]\n",
    "            read_file_2 = read_file[int(x/2):, :]\n",
    "            np.save(OUTPUT / f\"{file.stem}_{count+1}.npy\", read_file_1)\n",
    "            np.save(OUTPUT / f\"{file.stem}_{count+2}.npy\", read_file_2)\n",
    "        else:\n",
    "            h, x, y = read_file.shape\n",
    "            print(x, y)\n",
    "            read_file_1 = read_file[:, :int(x/2), :]\n",
    "            read_file_2 = read_file[:, int(x/2):, :]\n",
    "            np.save(OUTPUT / f\"{file.stem}_{count+1}.npy\", read_file_1)\n",
    "            np.save(OUTPUT / f\"{file.stem}_{count+2}.npy\", read_file_2)\n",
    "            \n",
    "    count += 2\n",
    "    \n",
    "    \n",
    "    "
   ]
  }
 ],
 "metadata": {
  "kernelspec": {
   "display_name": "base",
   "language": "python",
   "name": "python3"
  },
  "language_info": {
   "codemirror_mode": {
    "name": "ipython",
    "version": 3
   },
   "file_extension": ".py",
   "mimetype": "text/x-python",
   "name": "python",
   "nbconvert_exporter": "python",
   "pygments_lexer": "ipython3",
   "version": "3.8.10"
  },
  "orig_nbformat": 4
 },
 "nbformat": 4,
 "nbformat_minor": 2
}
