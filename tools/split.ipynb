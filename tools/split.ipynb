{
 "cells": [
  {
   "cell_type": "code",
   "execution_count": 1,
   "metadata": {},
   "outputs": [],
   "source": [
    "from pathlib import Path\n",
    "from tqdm.notebook import tqdm\n",
    "from PIL import Image\n",
    "import numpy as np"
   ]
  },
  {
   "cell_type": "code",
   "execution_count": 2,
   "metadata": {},
   "outputs": [],
   "source": [
    "# Split image in to (x, y)\n",
    "\n",
    "def split(img):\n",
    "    imgs = []    \n",
    "    for i in range(30):\n",
    "        for j in range(27):\n",
    "            imgs.append(img[i*211:(i+1)*211, j*303:(j+1)*303])\n",
    "    return imgs"
   ]
  },
  {
   "cell_type": "code",
   "execution_count": 3,
   "metadata": {},
   "outputs": [
    {
     "name": "stdout",
     "output_type": "stream",
     "text": [
      "/root/autodl-tmp/vesuvius-challenge-ink-detection/train/2\n"
     ]
    },
    {
     "data": {
      "application/vnd.jupyter.widget-view+json": {
       "model_id": "d3f706a35a2a4ac49a632523c8bfeb59",
       "version_major": 2,
       "version_minor": 0
      },
      "text/plain": [
       "  0%|          | 0/65 [00:00<?, ?it/s]"
      ]
     },
     "metadata": {},
     "output_type": "display_data"
    },
    {
     "name": "stderr",
     "output_type": "stream",
     "text": [
      "/root/miniconda3/lib/python3.8/site-packages/PIL/Image.py:3074: DecompressionBombWarning: Image size (140973980 pixels) exceeds limit of 89478485 pixels, could be decompression bomb DOS attack.\n",
      "  warnings.warn(\n"
     ]
    },
    {
     "ename": "",
     "evalue": "",
     "output_type": "error",
     "traceback": [
      "\u001b[1;31mCanceled future for execute_request message before replies were done"
     ]
    },
    {
     "ename": "",
     "evalue": "",
     "output_type": "error",
     "traceback": [
      "\u001b[1;31mThe Kernel crashed while executing code in the the current cell or a previous cell. Please review the code in the cell(s) to identify a possible cause of the failure. Click <a href='https://aka.ms/vscodeJupyterKernelCrash'>here</a> for more info. View Jupyter <a href='command:jupyter.viewOutput'>log</a> for further details."
     ]
    }
   ],
   "source": [
    "x = 211 # 6330/211=30\n",
    "y = 303 # 8181/303=27\n",
    "DATA_ROOT = Path(r'/root/autodl-tmp/vesuvius-challenge-ink-detection/')\n",
    "OUTPUT = Path(r'/root/autodl-tmp/MyData')\n",
    "trains = DATA_ROOT / 'train'\n",
    "tests = DATA_ROOT / 'test'\n",
    "\n",
    "# list of all subfolder of trains\n",
    "trains_folders = [f for f in trains.iterdir() if f.is_dir()]\n",
    "# list of all subfolder of tests\n",
    "tests_folders = [f for f in tests.iterdir() if f.is_dir()]\n",
    "\n",
    "# js = dict({'training': [], 'validation': [],'testing': [], \n",
    "#         \"labels\": {\n",
    "#         \"0\": \"background\",\n",
    "#         \"1\": \"ink\"\n",
    "#     }})\n",
    "sub_train_files = []\n",
    "train_output = OUTPUT / \"train\"\n",
    "test_output = OUTPUT / \"test\"\n",
    "for i, sub_train in enumerate(trains_folders):\n",
    "    if i ==0:\n",
    "        continue\n",
    "    print(sub_train)\n",
    "    # list of all files in subfolder\n",
    "    img_root = train_output / str(i+1) / \"imgs\"\n",
    "    mask_root = train_output / str(i+1) / \"mask\"\n",
    "    ink_label_root = train_output / str(i+1) / \"ink_label\"\n",
    "    img_root.mkdir(parents=True, exist_ok=True)\n",
    "    mask_root.mkdir(exist_ok=True)\n",
    "    ink_label_root.mkdir(exist_ok=True)\n",
    "    filenames = [ f for f in (sub_train / 'surface_volume').iterdir()]\n",
    "    for f in tqdm(filenames):\n",
    "        image_sub_folder = img_root / str(f.stem)\n",
    "        image_sub_folder.mkdir(exist_ok=True)\n",
    "        with Image.open(f) as im:\n",
    "            img = np.array(im)\n",
    "        imgs = split(img)\n",
    "        del img\n",
    "        for j, image in enumerate(imgs):\n",
    "            np.save(str(image_sub_folder / (f.stem +f\"_{j+1}.npy\")), image)\n",
    "            \n",
    "    with Image.open(str(sub_train / 'mask.png')) as m:\n",
    "        mask_img = np.array(m)\n",
    "    masks = split(mask_img)\n",
    "    del mask_img\n",
    "    for j, image in enumerate(masks):\n",
    "        np.save(str(mask_root / (f\"mask_{j+1}.npy\")), image)\n",
    "        del image\n",
    "        \n",
    "    with Image.open(str(sub_train / 'inklabels.png')) as ink:\n",
    "        ink_img = np.array(m)\n",
    "    inks = split(ink_img)\n",
    "    del ink_img\n",
    "    for j, image in enumerate(inks):\n",
    "        np.save(str(ink_label_root / (f\"ink_label_{j+1}.npy\")), image)\n",
    "        del image\n",
    "\n",
    "    # js['training'].append({'image': sub_train_files, 'label': str(sub_train / 'mask.png'), 'inklabels': str(sub_train / 'inklabels.png')})\n",
    "sub_test_files = []\n",
    "for i, sub_test in enumerate(tests_folders):\n",
    "    print(sub_test)\n",
    "    # list of all files in subfolder\n",
    "    img_root = test_output / str(i+1) / \"imgs\"\n",
    "    mask_root = test_output / str(i+1) / \"mask\"\n",
    "    ink_label_root = test_output / str(i+1) / \"ink_label\"\n",
    "    img_root.mkdir(parents=True, exist_ok=True)\n",
    "    mask_root.mkdir(exist_ok=True)\n",
    "    ink_label_root.mkdir(exist_ok=True)\n",
    "    filenames = [ f for f in (sub_test / 'surface_volume').iterdir()]\n",
    "    for f in tqdm(filenames):\n",
    "        image_sub_folder = img_root / str(f.stem)\n",
    "        image_sub_folder.mkdir(exist_ok=True)\n",
    "        with Image.open(f) as im:\n",
    "            img = np.array(im)\n",
    "        imgs = split(img)\n",
    "        del img\n",
    "        for j, image in enumerate(imgs):\n",
    "            np.save(str(image_sub_folder / (f.stem +f\"_{j+1}.npy\")), image)\n",
    "            print(j)\n",
    "        del imgs\n",
    "        \n",
    "    with Image.open(str(sub_test / 'mask.png')) as m:\n",
    "        mask_img = np.array(m)\n",
    "    masks = split(mask_img)\n",
    "    del mask_img\n",
    "    for j, image in enumerate(masks):\n",
    "        np.save(str(mask_root / (f\"mask_{j+1}.npy\")), image)\n",
    "        del image\n",
    "    # js['testing'].append({'image': sub_test_files,  'label': str(sub_test / 'mask.png')})"
   ]
  },
  {
   "cell_type": "code",
   "execution_count": null,
   "metadata": {},
   "outputs": [],
   "source": [
    "# Generate train json\n",
    "\n",
    "for data in OUTPUT.iterdir():\n",
    "    images_folder = data / \"imgs\"\n",
    "    mask_folder = \"mask\"\n",
    "    "
   ]
  }
 ],
 "metadata": {
  "kernelspec": {
   "display_name": "base",
   "language": "python",
   "name": "python3"
  },
  "language_info": {
   "codemirror_mode": {
    "name": "ipython",
    "version": 3
   },
   "file_extension": ".py",
   "mimetype": "text/x-python",
   "name": "python",
   "nbconvert_exporter": "python",
   "pygments_lexer": "ipython3",
   "version": "3.8.10"
  },
  "orig_nbformat": 4
 },
 "nbformat": 4,
 "nbformat_minor": 2
}
