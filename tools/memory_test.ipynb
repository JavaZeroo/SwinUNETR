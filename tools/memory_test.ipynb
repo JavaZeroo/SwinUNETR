{
 "cells": [
  {
   "cell_type": "code",
   "execution_count": 1,
   "metadata": {},
   "outputs": [],
   "source": [
    "import sys\n",
    "sys.path.append('../')\n",
    "from utils.data_utils import get_loader\n",
    "from easydict import EasyDict as edict\n",
    "\n",
    "args = edict(RandFlipd_prob=0.2, RandRotate90d_prob=0.2, RandScaleIntensityd_prob=0.1, RandShiftIntensityd_prob=0.1, a_max=65535.0, a_min=0.0, amp=True, b_max=256.0, b_min=0.0, batch_size=1, cache_rate=1.0, \n",
    "             checkpoint=None, data_dir='/root/autodl-tmp/data_split', debug=False, dist_backend='nccl', dist_url='tcp://127.0.0.1:23456', distributed=False, dropout_path_rate=0.0, dropout_rate=0.0, eff='b5', \n",
    "             feature_size=48, gpu=0, in_channels=65, infer_overlap=0.5, json_list='/root/autodl-tmp/data_split/data_split.json', logdir='./runs/512_2dfunetlstm_b5_22_mid18_sgd_May-15-08-50', loss_mode='custom', \n",
    "             loss_weight=(2.0, 1.0), lrschedule='cosine_anneal',\n",
    "             max_epochs=2000, mid=18, model_mode='2dfunetlstm', momentum=0.99, noamp=False, norm_name='instance', normal=False, num_channel=22, \n",
    "             num_samples=20, \n",
    "             optim_lr=0.0009, optim_name='sgd', out_channels=1, pretrained_dir='./pretrained_models/', pretrained_model_name=None, rank=0, reg_weight=1e-05, resume_ckpt=False, roi_x=512, roi_y=512, roi_z=22, \n",
    "             save_checkpoint=True, smooth_dr=1e-06, smooth_nr=0.0, space_x=1.5, space_y=1.5, space_z=1.0, spatial_dims=3, sw_batch_size=4, test=False, test_mode=False, threshold=0.4, use_checkpoint=False, \n",
    "             use_normal_dataset=True, use_ssl_pretrained=False, val_every=10, warmup_epochs=50,\n",
    "             workers=15, \n",
    "             world_size=1)"
   ]
  },
  {
   "cell_type": "code",
   "execution_count": 2,
   "metadata": {},
   "outputs": [
    {
     "name": "stderr",
     "output_type": "stream",
     "text": [
      "<class 'monai.transforms.utility.array.AddChannel'>: Class `AddChannel` has been deprecated since version 0.8. please use MetaTensor data type and monai.transforms.EnsureChannelFirst instead.\n"
     ]
    }
   ],
   "source": [
    "loader = get_loader(args)\n"
   ]
  },
  {
   "cell_type": "code",
   "execution_count": 3,
   "metadata": {},
   "outputs": [
    {
     "name": "stdout",
     "output_type": "stream",
     "text": [
      "<class 'monai.data.dataloader.DataLoader'>\n"
     ]
    },
    {
     "name": "stderr",
     "output_type": "stream",
     "text": [
      "  5%|▌         | 1/19 [00:33<09:54, 33.02s/it]"
     ]
    },
    {
     "name": "stdout",
     "output_type": "stream",
     "text": [
      "(20, 22, 512, 512)\n",
      "(20, 22, 512, 512)\n",
      "(20, 22, 512, 512)\n",
      "(20, 22, 512, 512)\n",
      "(20, 22, 512, 512)\n",
      "(20, 22, 512, 512)\n",
      "(20, 22, 512, 512)\n",
      "(20, 22, 512, 512)\n"
     ]
    },
    {
     "name": "stderr",
     "output_type": "stream",
     "text": [
      " 47%|████▋     | 9/19 [00:34<00:28,  2.80s/it]"
     ]
    },
    {
     "name": "stdout",
     "output_type": "stream",
     "text": [
      "(20, 22, 512, 512)\n",
      "(20, 22, 512, 512)\n",
      "(20, 22, 512, 512)\n",
      "(20, 22, 512, 512)\n",
      "(20, 22, 512, 512)\n",
      "(20, 22, 512, 512)\n",
      "(20, 22, 512, 512)\n"
     ]
    },
    {
     "name": "stderr",
     "output_type": "stream",
     "text": [
      " 84%|████████▍ | 16/19 [00:34<00:04,  1.36s/it]"
     ]
    },
    {
     "name": "stdout",
     "output_type": "stream",
     "text": [
      "(20, 22, 512, 512)\n",
      "(20, 22, 512, 512)\n"
     ]
    },
    {
     "name": "stderr",
     "output_type": "stream",
     "text": [
      "100%|██████████| 19/19 [00:35<00:00,  1.89s/it]"
     ]
    },
    {
     "name": "stdout",
     "output_type": "stream",
     "text": [
      "(20, 22, 512, 512)\n",
      "(20, 22, 512, 512)\n",
      "函数 test 的运行时间为：35.91754688695073 秒\n"
     ]
    },
    {
     "name": "stderr",
     "output_type": "stream",
     "text": [
      "\n"
     ]
    },
    {
     "ename": "",
     "evalue": "",
     "output_type": "error",
     "traceback": [
      "\u001b[1;31mThe Kernel crashed while executing code in the the current cell or a previous cell. Please review the code in the cell(s) to identify a possible cause of the failure. Click <a href='https://aka.ms/vscodeJupyterKernelCrash'>here</a> for more info. View Jupyter <a href='command:jupyter.viewOutput'>log</a> for further details."
     ]
    }
   ],
   "source": [
    "print(type(loader[0]))\n",
    "import timeit\n",
    "from tqdm import tqdm\n",
    "\n",
    "def measure_time(func):\n",
    "    def wrapper(*args, **kwargs):\n",
    "        start_time = timeit.default_timer()\n",
    "        result = func(*args, **kwargs)\n",
    "        end_time = timeit.default_timer()\n",
    "        execution_time = end_time - start_time\n",
    "        print(f\"函数 {func.__name__} 的运行时间为：{execution_time} 秒\")\n",
    "        return result\n",
    "    return wrapper\n",
    "\n",
    "\n",
    "@measure_time  \n",
    "def test():\n",
    "    for data in tqdm(loader[0]):\n",
    "        print(data['image'].shape)\n",
    "        # print(type(data))\n",
    "\n",
    "test()"
   ]
  }
 ],
 "metadata": {
  "kernelspec": {
   "display_name": "base",
   "language": "python",
   "name": "python3"
  },
  "language_info": {
   "codemirror_mode": {
    "name": "ipython",
    "version": 3
   },
   "file_extension": ".py",
   "mimetype": "text/x-python",
   "name": "python",
   "nbconvert_exporter": "python",
   "pygments_lexer": "ipython3",
   "version": "3.8.10"
  },
  "orig_nbformat": 4
 },
 "nbformat": 4,
 "nbformat_minor": 2
}
